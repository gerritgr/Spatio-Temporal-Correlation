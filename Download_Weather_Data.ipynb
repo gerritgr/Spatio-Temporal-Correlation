{
  "nbformat": 4,
  "nbformat_minor": 0,
  "metadata": {
    "colab": {
      "provenance": [],
      "authorship_tag": "ABX9TyNio5uB4YC0+Ntjc/pdlwlB",
      "include_colab_link": true
    },
    "kernelspec": {
      "name": "python3",
      "display_name": "Python 3"
    },
    "language_info": {
      "name": "python"
    }
  },
  "cells": [
    {
      "cell_type": "markdown",
      "metadata": {
        "id": "view-in-github",
        "colab_type": "text"
      },
      "source": [
        "<a href=\"https://colab.research.google.com/github/gerritgr/Spatio-Temporal-Correlation/blob/main/Download_Weather_Data.ipynb\" target=\"_parent\"><img src=\"https://colab.research.google.com/assets/colab-badge.svg\" alt=\"Open In Colab\"/></a>"
      ]
    },
    {
      "cell_type": "code",
      "execution_count": null,
      "metadata": {
        "id": "dWgYznxG8jUQ"
      },
      "outputs": [],
      "source": [
        "from datetime import datetime, timedelta\n",
        "import random\n",
        "import time\n",
        "import pandas as pd\n",
        "from meteostat import Point, Daily\n",
        "\n",
        "# Set date range\n",
        "start_date = datetime(2015, 1, 1)\n",
        "end_date = datetime(2016, 12, 31)\n",
        "\n",
        "# NYC latitude and longitude ranges\n",
        "lat_min = 40.4774\n",
        "lat_max = 40.9176\n",
        "lon_min = -74.2591\n",
        "lon_max = -73.7004\n",
        "\n",
        "# Initialize list to store data\n",
        "data_list = []\n",
        "\n",
        "# Loop to fetch data for 1000 random dates and locations\n",
        "for i in range(100000):\n",
        "    # Generate a random date between start_date and end_date\n",
        "    random_date = start_date + timedelta(days=random.randint(0, (end_date - start_date).days))\n",
        "    # Generate a random latitude and longitude within NYC\n",
        "    random_lat = random.uniform(lat_min, lat_max)\n",
        "    random_lon = random.uniform(lon_min, lon_max)\n",
        "\n",
        "    # Create a Point for the random location\n",
        "    location = Point(random_lat, random_lon)\n",
        "\n",
        "    # Get daily data for the random date\n",
        "    try:\n",
        "        data = Daily(location, random_date, random_date)\n",
        "        data = data.fetch()\n",
        "\n",
        "        if not data.empty:\n",
        "            # Get the average temperature\n",
        "            tavg = data.iloc[0]['tavg']\n",
        "            # Append the data to the list\n",
        "            data_list.append({\n",
        "                'date': random_date.strftime('%Y-%m-%d'),\n",
        "                'latitude': random_lat,\n",
        "                'longitude': random_lon,\n",
        "                'tavg': tavg\n",
        "            })\n",
        "        else:\n",
        "            # If data is empty, note that data is missing\n",
        "            data_list.append({\n",
        "                'date': random_date.strftime('%Y-%m-%d'),\n",
        "                'latitude': random_lat,\n",
        "                'longitude': random_lon,\n",
        "                'tavg': None\n",
        "            })\n",
        "    except Exception as e:\n",
        "        print(f\"Error fetching data for date {random_date.date()} and location ({random_lat}, {random_lon}): {e}\")\n",
        "        data_list.append({\n",
        "            'date': random_date.strftime('%Y-%m-%d'),\n",
        "            'latitude': random_lat,\n",
        "            'longitude': random_lon,\n",
        "            'tavg': None\n",
        "        })\n",
        "\n",
        "    # Save to CSV every 10 requests\n",
        "    if (i + 1) % 100 == 0:\n",
        "        df = pd.DataFrame(data_list)\n",
        "        df.to_csv('temperature_nyc_2015_2016_data.csv', index=False)\n",
        "        print(f\"Saved {i + 1} records to 'temperature_data.csv'\")\n",
        "\n",
        "    # Sleep to avoid hitting rate limits\n",
        "    time.sleep(0.1)\n"
      ]
    }
  ]
}